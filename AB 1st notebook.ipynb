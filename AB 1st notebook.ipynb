{
    "cells": [
        {
            "cell_type": "code",
            "execution_count": 8,
            "metadata": {},
            "outputs": [
                {
                    "ename": "SyntaxError",
                    "evalue": "invalid syntax (<ipython-input-8-b80519e3097a>, line 20)",
                    "output_type": "error",
                    "traceback": [
                        "\u001b[0;36m  File \u001b[0;32m\"<ipython-input-8-b80519e3097a>\"\u001b[0;36m, line \u001b[0;32m20\u001b[0m\n\u001b[0;31m    for t in x range(1000):\u001b[0m\n\u001b[0m                   ^\u001b[0m\n\u001b[0;31mSyntaxError\u001b[0m\u001b[0;31m:\u001b[0m invalid syntax\n"
                    ]
                }
            ],
            "source": "import numpy as np\nimport matplotlib.pyplot as plt\n\nN = 3\nD = 10\n\nX = np.zeros((N , D))\n\nX[:,0] = 1\nX[:5,1] = 1\nX[5:,2] = 1\nY = np.array([0]*5 + [1]*5)\n\ncost = []\n\nw = np.random.randn(D) / np.sqrt(D)\n\nlearning_rate = 0.001\n\nfor t in x range(1000):\n    Yhat = x.dot(w)\n    Delta = Yhat - Y\n    W = learning_rate*X.T.dot(Delta)\n\n    mse = Dleta.dot(Delta) / N\n\n\ncost.append(mse)\nplt.plot(cost)\nplt.show()\n"
        },
        {
            "cell_type": "code",
            "execution_count": null,
            "metadata": {},
            "outputs": [],
            "source": ""
        },
        {
            "cell_type": "code",
            "execution_count": null,
            "metadata": {},
            "outputs": [],
            "source": ""
        }
    ],
    "metadata": {
        "kernelspec": {
            "display_name": "Python 3.7",
            "language": "python",
            "name": "python3"
        },
        "language_info": {
            "codemirror_mode": {
                "name": "ipython",
                "version": 3
            },
            "file_extension": ".py",
            "mimetype": "text/x-python",
            "name": "python",
            "nbconvert_exporter": "python",
            "pygments_lexer": "ipython3",
            "version": "3.7.10"
        }
    },
    "nbformat": 4,
    "nbformat_minor": 1
}